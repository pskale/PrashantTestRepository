{
 "cells": [
  {
   "cell_type": "code",
   "execution_count": 188,
   "id": "d0fe3147-1514-4fd8-8ee1-01f805f8cfa0",
   "metadata": {},
   "outputs": [],
   "source": [
    "import warnings\n",
    "warnings.filterwarnings(\"ignore\")\n",
    "import pandas as pd\n",
    "import numpy as np\n",
    "# Matplotlib is a plotting library for python and pyplot gives us a MatLab like plotting framework. We will use this in our plotter function to plot data.\n",
    "import matplotlib.pyplot as plt\n",
    "#Seaborn is a Python data visualization library based on matplotlib. It provides a high-level interface for drawing attractive and informative statistical graphics\n",
    "import seaborn as sns"
   ]
  },
  {
   "cell_type": "code",
   "execution_count": 189,
   "id": "87ec1b87-c725-4eb1-84c0-195777a5baa5",
   "metadata": {},
   "outputs": [],
   "source": [
    "data = pd.read_csv('test_1000.csv')"
   ]
  },
  {
   "cell_type": "code",
   "execution_count": 190,
   "id": "57b6ba58-b4fb-431a-9863-666ac265e735",
   "metadata": {},
   "outputs": [],
   "source": [
    "data_q = data.drop(['id','qid1','qid2'], axis=1)"
   ]
  },
  {
   "cell_type": "code",
   "execution_count": 191,
   "id": "e06b1cae-d0d5-4849-b2af-a8977fe577b0",
   "metadata": {},
   "outputs": [],
   "source": [
    "#length based features\n",
    "data_q['len_q1'] = data_q.question1.apply(lambda x: len(str(x)))\n",
    "data_q['len_q2'] = data_q.question2.apply(lambda x: len(str(x)))\n",
    "# difference in lengths of two questions\n",
    "data_q['diff_len'] = abs(data_q.len_q1 - data_q.len_q2)\n",
    "\n",
    "# character length based features\n",
    "data_q['len_char_q1'] = data_q.question1.apply(lambda x: \n",
    "len(''.join(set(str(x).replace(' ', '')))))\n",
    "data_q['len_char_q2'] = data_q.question2.apply(lambda x: \n",
    "len(''.join(set(str(x).replace(' ', '')))))\n",
    "\n",
    "# word length based features\n",
    "data_q['len_word_q1'] = data_q.question1.apply(lambda x: \n",
    "len(str(x).split()))\n",
    "data_q['len_word_q2'] = data_q.question2.apply(lambda x: \n",
    "len(str(x).split()))\n",
    "data_q['diff_wlen'] = abs(data_q.len_word_q1 - data_q.len_word_q2)\n",
    "\n",
    "# common words in the two questions\n",
    "data_q['common_words'] = data_q.apply(lambda x: \n",
    "len(set(str(x['question1'])\n",
    ".lower().split())\n",
    ".intersection(set(str(x['question2'])\n",
    ".lower().split()))), axis=1)\n",
    "\n",
    "#ratio of number of common words to the mean of total words in two questions\n",
    "data_q[\"ratio_common\"] = data_q[\"common_words\"]*2/(data_q[\"len_word_q1\"]+data_q[\"len_word_q1\"])\n",
    "data_q[\"ratio_common\"] = data_q[\"ratio_common\"].astype('float64')\n",
    "pd.options.display.float_format = '{:.2f}'.format"
   ]
  },
  {
   "cell_type": "code",
   "execution_count": 192,
   "id": "4e3d7a55-9c88-4df5-b46b-b2537b8156db",
   "metadata": {},
   "outputs": [],
   "source": [
    "# creating feature set for basic features\n",
    "fs_1 = data_q[['diff_len','diff_wlen','ratio_common']]"
   ]
  },
  {
   "cell_type": "code",
   "execution_count": 193,
   "id": "4ef69772-45ad-42ea-8713-87a66b6b0648",
   "metadata": {},
   "outputs": [
    {
     "name": "stdout",
     "output_type": "stream",
     "text": [
      "Requirement already satisfied: fuzzywuzzy in /home/jupyterlab/conda/envs/python/lib/python3.7/site-packages (0.18.0)\n",
      "Requirement already satisfied: python-Levenshtein in /home/jupyterlab/conda/envs/python/lib/python3.7/site-packages (0.12.2)\n",
      "Requirement already satisfied: setuptools in /home/jupyterlab/conda/envs/python/lib/python3.7/site-packages (from python-Levenshtein) (60.9.3)\n"
     ]
    }
   ],
   "source": [
    "!pip install fuzzywuzzy\n",
    "!pip install python-Levenshtein\n",
    "from fuzzywuzzy import fuzz"
   ]
  },
  {
   "cell_type": "code",
   "execution_count": 194,
   "id": "0a735c6c-bb94-4089-bca7-db39662b51b8",
   "metadata": {},
   "outputs": [],
   "source": [
    "data_q['fuzz_qratio'] = data_q.apply(lambda x: fuzz.QRatio(\n",
    "    str(x['question1']), str(x['question2'])), axis=1)\n",
    "data_q['fuzz_WRatio'] = data_q.apply(lambda x: fuzz.WRatio(\n",
    "str(x['question1']), str(x['question2'])), axis=1)\n",
    "\n",
    "data_q['fuzz_partial_ratio'] = data_q.apply(lambda x: \n",
    "fuzz.partial_ratio(str(x['question1']), \n",
    "str(x['question2'])), axis=1)\n",
    "\n",
    "data_q['fuzz_partial_token_set_ratio'] = data_q.apply(lambda x:\n",
    "fuzz.partial_token_set_ratio(str(x['question1']), \n",
    "str(x['question2'])), axis=1)\n",
    "\n",
    "data_q['fuzz_partial_token_sort_ratio'] = data_q.apply(lambda x: \n",
    "fuzz.partial_token_sort_ratio(str(x['question1']), \n",
    "str(x['question2'])), axis=1)\n",
    "\n",
    "data_q['fuzz_token_set_ratio'] = data_q.apply(lambda x: \n",
    "fuzz.token_set_ratio(str(x['question1']), \n",
    "str(x['question2'])), axis=1)\n",
    "data_q['fuzz_token_sort_ratio'] = data.apply(lambda x: \n",
    "                   fuzz.token_sort_ratio(str(x['question1']), \n",
    "                   str(x['question2'])), axis=1)"
   ]
  },
  {
   "cell_type": "code",
   "execution_count": 195,
   "id": "b851d75c-2688-4a08-bbe5-95bd6305b478",
   "metadata": {},
   "outputs": [],
   "source": [
    "# Creating second feature set from fuzzy features\n",
    "fs_2 = data_q[['fuzz_qratio', 'fuzz_WRatio', 'fuzz_partial_ratio', \n",
    "       'fuzz_partial_token_sort_ratio','fuzz_token_set_ratio', 'fuzz_token_sort_ratio']]"
   ]
  },
  {
   "cell_type": "code",
   "execution_count": 196,
   "id": "b2a5dd95-70c1-4734-a583-95c481e6d238",
   "metadata": {},
   "outputs": [
    {
     "name": "stdout",
     "output_type": "stream",
     "text": [
      "Requirement already satisfied: nltk in /home/jupyterlab/conda/envs/python/lib/python3.7/site-packages (3.7)\n",
      "Requirement already satisfied: joblib in /home/jupyterlab/conda/envs/python/lib/python3.7/site-packages (from nltk) (1.1.0)\n",
      "Requirement already satisfied: tqdm in /home/jupyterlab/conda/envs/python/lib/python3.7/site-packages (from nltk) (4.60.0)\n",
      "Requirement already satisfied: click in /home/jupyterlab/conda/envs/python/lib/python3.7/site-packages (from nltk) (8.0.4)\n",
      "Requirement already satisfied: regex>=2021.8.3 in /home/jupyterlab/conda/envs/python/lib/python3.7/site-packages (from nltk) (2022.3.15)\n",
      "Requirement already satisfied: importlib-metadata in /home/jupyterlab/conda/envs/python/lib/python3.7/site-packages (from click->nltk) (4.11.2)\n",
      "Requirement already satisfied: typing-extensions>=3.6.4 in /home/jupyterlab/conda/envs/python/lib/python3.7/site-packages (from importlib-metadata->click->nltk) (4.1.1)\n",
      "Requirement already satisfied: zipp>=0.5 in /home/jupyterlab/conda/envs/python/lib/python3.7/site-packages (from importlib-metadata->click->nltk) (3.7.0)\n"
     ]
    },
    {
     "name": "stderr",
     "output_type": "stream",
     "text": [
      "[nltk_data] Downloading package stopwords to\n",
      "[nltk_data]     /home/jupyterlab/nltk_data...\n",
      "[nltk_data]   Package stopwords is already up-to-date!\n"
     ]
    },
    {
     "data": {
      "text/plain": [
       "True"
      ]
     },
     "execution_count": 196,
     "metadata": {},
     "output_type": "execute_result"
    }
   ],
   "source": [
    "!pip install nltk\n",
    "import nltk\n",
    "nltk.download('stopwords')"
   ]
  },
  {
   "cell_type": "code",
   "execution_count": 197,
   "id": "5d39ad0b-6df4-4410-8c99-a8bafddf01fe",
   "metadata": {},
   "outputs": [],
   "source": [
    "from sklearn.feature_extraction.text import TfidfVectorizer\n",
    "from copy import deepcopy\n",
    "tfv_q1 = TfidfVectorizer(min_df=3, \n",
    "max_features=None, \n",
    "strip_accents='unicode', \n",
    "analyzer='word', \n",
    "token_pattern=r'w{1,}',\n",
    "ngram_range=(1, 2), \n",
    "use_idf=1, \n",
    "smooth_idf=1, \n",
    "sublinear_tf=1,\n",
    "stop_words='english')\n",
    "\n",
    "tfv_q2 = deepcopy(tfv_q1)"
   ]
  },
  {
   "cell_type": "code",
   "execution_count": 198,
   "id": "72eda798-b147-4b68-92f7-11aabeba4f94",
   "metadata": {},
   "outputs": [],
   "source": [
    "q1_tfidf = tfv_q1.fit_transform(data_q.question1.fillna(\"\"))\n",
    "q2_tfidf = tfv_q2.fit_transform(data_q.question2.fillna(\"\"))"
   ]
  },
  {
   "cell_type": "code",
   "execution_count": 199,
   "id": "dc98cb8e-6762-4218-8341-05a349bcba08",
   "metadata": {},
   "outputs": [],
   "source": [
    "from sklearn.decomposition import TruncatedSVD\n",
    "svd_q1 = TruncatedSVD(n_components=1)\n",
    "svd_q2 = TruncatedSVD(n_components=1)"
   ]
  },
  {
   "cell_type": "code",
   "execution_count": 200,
   "id": "473cc897-ec9f-4184-b325-af827b378b91",
   "metadata": {},
   "outputs": [],
   "source": [
    "question1_vectors = svd_q1.fit_transform(q1_tfidf)\n",
    "question2_vectors = svd_q2.fit_transform(q2_tfidf)"
   ]
  },
  {
   "cell_type": "code",
   "execution_count": 201,
   "id": "e8398149-b5d7-4d82-9d10-4e435b5aab05",
   "metadata": {},
   "outputs": [],
   "source": [
    "# obtain features by stacking the matrices together\n",
    "fs3_3 = np.hstack((question1_vectors, question2_vectors))"
   ]
  },
  {
   "cell_type": "code",
   "execution_count": 202,
   "id": "f44e6fa3-682c-4d91-be9c-9574adec9445",
   "metadata": {},
   "outputs": [],
   "source": [
    "dfs3_3 = pd.DataFrame(fs3_3, columns = ['q1_vector','q2_vector'])"
   ]
  },
  {
   "cell_type": "code",
   "execution_count": 203,
   "id": "b70c2f18-6350-4547-b153-99fa4ef7591f",
   "metadata": {},
   "outputs": [],
   "source": [
    "from scipy.spatial.distance import cosine, cityblock,jaccard, canberra, euclidean, minkowski, braycurtis"
   ]
  },
  {
   "cell_type": "code",
   "execution_count": 204,
   "id": "238a47b6-ac24-486f-9854-f84111980087",
   "metadata": {},
   "outputs": [],
   "source": [
    "data_q['cosine_distance'] = [cosine(x,y) \n",
    "for (x,y) in zip(question1_vectors, question2_vectors)]\n",
    "data_q['jaccard_distance'] = [jaccard(x,y) \n",
    "for (x,y) in zip(question1_vectors, question2_vectors)]\n",
    "data_q['cityblock_distance'] = [cityblock(x,y) \n",
    "for (x,y) in zip(question1_vectors, question2_vectors)]\n",
    "data_q['jaccard_distance'] = [jaccard(x,y) \n",
    "for (x,y) in zip(question1_vectors, question2_vectors)]\n",
    "data_q['canberra_distance'] = [canberra(x,y) \n",
    "for (x,y) in zip(question1_vectors, question2_vectors)]\n",
    "data_q['euclidean_distance'] = [jaccard(x,y) \n",
    "for (x,y) in zip(question1_vectors, question2_vectors)]\n",
    "data_q['minkowski_distance'] = [minkowski(x,y) \n",
    "for (x,y) in zip(question1_vectors, question2_vectors)]\n",
    "#data_q['braycurtis_distance'] = [braycurtis(x,y) \n",
    "#for (x,y) in zip(question1_vectors, question2_vectors)]"
   ]
  },
  {
   "cell_type": "code",
   "execution_count": 205,
   "id": "311933ea-8993-41e7-aac9-f51e6825dc47",
   "metadata": {},
   "outputs": [],
   "source": [
    "#fs4 = data_q[['cosine_distance', 'cityblock_distance', \n",
    "#         'jaccard_distance', 'canberra_distance', \n",
    "#         'euclidean_distance', 'minkowski_distance']]"
   ]
  },
  {
   "cell_type": "code",
   "execution_count": 206,
   "id": "b63e5f31-c2f8-478e-9d34-127638949909",
   "metadata": {},
   "outputs": [],
   "source": [
    "fs4 = data_q[[ 'cityblock_distance', 'canberra_distance', 'minkowski_distance']]"
   ]
  },
  {
   "cell_type": "code",
   "execution_count": 207,
   "id": "8a102c16-ddf7-41c0-8041-1a2e488878e5",
   "metadata": {},
   "outputs": [
    {
     "data": {
      "text/plain": [
       "<AxesSubplot:xlabel='cityblock_distance', ylabel='is_duplicate'>"
      ]
     },
     "execution_count": 207,
     "metadata": {},
     "output_type": "execute_result"
    },
    {
     "data": {
      "image/png": "[encoded data removed]",
      "text/plain": [
       "<Figure size 432x288 with 1 Axes>"
      ]
     },
     "metadata": {
      "needs_background": "light"
     },
     "output_type": "display_data"
    }
   ],
   "source": [
    "sns.lineplot(data=data_q, x=\"cityblock_distance\", y=\"is_duplicate\")"
   ]
  },
  {
   "cell_type": "code",
   "execution_count": 208,
   "id": "ffd089ed-6df8-4e55-8609-cf4e1f9658d6",
   "metadata": {},
   "outputs": [
    {
     "name": "stdout",
     "output_type": "stream",
     "text": [
      "Requirement already satisfied: scikit-learn in /home/jupyterlab/conda/envs/python/lib/python3.7/site-packages (1.0.2)\n",
      "Requirement already satisfied: joblib>=0.11 in /home/jupyterlab/conda/envs/python/lib/python3.7/site-packages (from scikit-learn) (1.1.0)\n",
      "Requirement already satisfied: scipy>=1.1.0 in /home/jupyterlab/conda/envs/python/lib/python3.7/site-packages (from scikit-learn) (1.7.3)\n",
      "Requirement already satisfied: numpy>=1.14.6 in /home/jupyterlab/conda/envs/python/lib/python3.7/site-packages (from scikit-learn) (1.21.5)\n",
      "Requirement already satisfied: threadpoolctl>=2.0.0 in /home/jupyterlab/conda/envs/python/lib/python3.7/site-packages (from scikit-learn) (3.1.0)\n"
     ]
    }
   ],
   "source": [
    "!pip install -U scikit-learn"
   ]
  },
  {
   "cell_type": "code",
   "execution_count": 209,
   "id": "4e14ef1b-97cb-4e2d-bc25-19390cc06a37",
   "metadata": {},
   "outputs": [],
   "source": [
    "from sklearn import linear_model\n",
    "from sklearn.preprocessing import StandardScaler"
   ]
  },
  {
   "cell_type": "code",
   "execution_count": 210,
   "id": "b5c73292-54c6-406c-a549-512047c46a24",
   "metadata": {},
   "outputs": [
    {
     "data": {
      "text/html": [
       "<div>\n",
       "<style scoped>\n",
       "    .dataframe tbody tr th:only-of-type {\n",
       "        vertical-align: middle;\n",
       "    }\n",
       "\n",
       "    .dataframe tbody tr th {\n",
       "        vertical-align: top;\n",
       "    }\n",
       "\n",
       "    .dataframe thead th {\n",
       "        text-align: right;\n",
       "    }\n",
       "</style>\n",
       "<table border=\"1\" class=\"dataframe\">\n",
       "  <thead>\n",
       "    <tr style=\"text-align: right;\">\n",
       "      <th></th>\n",
       "      <th>diff_len</th>\n",
       "      <th>diff_wlen</th>\n",
       "      <th>ratio_common</th>\n",
       "      <th>fuzz_qratio</th>\n",
       "      <th>fuzz_WRatio</th>\n",
       "      <th>fuzz_partial_ratio</th>\n",
       "      <th>fuzz_partial_token_sort_ratio</th>\n",
       "      <th>fuzz_token_set_ratio</th>\n",
       "      <th>fuzz_token_sort_ratio</th>\n",
       "      <th>cityblock_distance</th>\n",
       "      <th>canberra_distance</th>\n",
       "      <th>minkowski_distance</th>\n",
       "    </tr>\n",
       "  </thead>\n",
       "  <tbody>\n",
       "    <tr>\n",
       "      <th>0</th>\n",
       "      <td>9.00</td>\n",
       "      <td>2.00</td>\n",
       "      <td>0.71</td>\n",
       "      <td>93.00</td>\n",
       "      <td>95.00</td>\n",
       "      <td>98.00</td>\n",
       "      <td>89.00</td>\n",
       "      <td>100.00</td>\n",
       "      <td>93.00</td>\n",
       "      <td>0.01</td>\n",
       "      <td>0.00</td>\n",
       "      <td>0.01</td>\n",
       "    </tr>\n",
       "    <tr>\n",
       "      <th>1</th>\n",
       "      <td>37.00</td>\n",
       "      <td>5.00</td>\n",
       "      <td>0.50</td>\n",
       "      <td>66.00</td>\n",
       "      <td>86.00</td>\n",
       "      <td>73.00</td>\n",
       "      <td>75.00</td>\n",
       "      <td>86.00</td>\n",
       "      <td>63.00</td>\n",
       "      <td>0.01</td>\n",
       "      <td>0.00</td>\n",
       "      <td>0.01</td>\n",
       "    </tr>\n",
       "    <tr>\n",
       "      <th>2</th>\n",
       "      <td>14.00</td>\n",
       "      <td>4.00</td>\n",
       "      <td>0.29</td>\n",
       "      <td>54.00</td>\n",
       "      <td>63.00</td>\n",
       "      <td>53.00</td>\n",
       "      <td>71.00</td>\n",
       "      <td>66.00</td>\n",
       "      <td>66.00</td>\n",
       "      <td>0.01</td>\n",
       "      <td>0.01</td>\n",
       "      <td>0.01</td>\n",
       "    </tr>\n",
       "    <tr>\n",
       "      <th>3</th>\n",
       "      <td>15.00</td>\n",
       "      <td>2.00</td>\n",
       "      <td>0.00</td>\n",
       "      <td>35.00</td>\n",
       "      <td>35.00</td>\n",
       "      <td>30.00</td>\n",
       "      <td>38.00</td>\n",
       "      <td>36.00</td>\n",
       "      <td>36.00</td>\n",
       "      <td>0.01</td>\n",
       "      <td>0.01</td>\n",
       "      <td>0.01</td>\n",
       "    </tr>\n",
       "    <tr>\n",
       "      <th>4</th>\n",
       "      <td>37.00</td>\n",
       "      <td>6.00</td>\n",
       "      <td>0.15</td>\n",
       "      <td>46.00</td>\n",
       "      <td>86.00</td>\n",
       "      <td>54.00</td>\n",
       "      <td>63.00</td>\n",
       "      <td>67.00</td>\n",
       "      <td>47.00</td>\n",
       "      <td>0.06</td>\n",
       "      <td>0.03</td>\n",
       "      <td>0.06</td>\n",
       "    </tr>\n",
       "    <tr>\n",
       "      <th>...</th>\n",
       "      <td>...</td>\n",
       "      <td>...</td>\n",
       "      <td>...</td>\n",
       "      <td>...</td>\n",
       "      <td>...</td>\n",
       "      <td>...</td>\n",
       "      <td>...</td>\n",
       "      <td>...</td>\n",
       "      <td>...</td>\n",
       "      <td>...</td>\n",
       "      <td>...</td>\n",
       "      <td>...</td>\n",
       "    </tr>\n",
       "    <tr>\n",
       "      <th>995</th>\n",
       "      <td>35.00</td>\n",
       "      <td>6.00</td>\n",
       "      <td>0.13</td>\n",
       "      <td>46.00</td>\n",
       "      <td>46.00</td>\n",
       "      <td>44.00</td>\n",
       "      <td>47.00</td>\n",
       "      <td>46.00</td>\n",
       "      <td>43.00</td>\n",
       "      <td>0.01</td>\n",
       "      <td>0.01</td>\n",
       "      <td>0.01</td>\n",
       "    </tr>\n",
       "    <tr>\n",
       "      <th>996</th>\n",
       "      <td>28.00</td>\n",
       "      <td>5.00</td>\n",
       "      <td>0.36</td>\n",
       "      <td>45.00</td>\n",
       "      <td>59.00</td>\n",
       "      <td>47.00</td>\n",
       "      <td>64.00</td>\n",
       "      <td>62.00</td>\n",
       "      <td>59.00</td>\n",
       "      <td>0.01</td>\n",
       "      <td>0.00</td>\n",
       "      <td>0.01</td>\n",
       "    </tr>\n",
       "    <tr>\n",
       "      <th>997</th>\n",
       "      <td>22.00</td>\n",
       "      <td>1.00</td>\n",
       "      <td>0.00</td>\n",
       "      <td>36.00</td>\n",
       "      <td>40.00</td>\n",
       "      <td>40.00</td>\n",
       "      <td>44.00</td>\n",
       "      <td>42.00</td>\n",
       "      <td>42.00</td>\n",
       "      <td>0.93</td>\n",
       "      <td>1.00</td>\n",
       "      <td>0.93</td>\n",
       "    </tr>\n",
       "    <tr>\n",
       "      <th>998</th>\n",
       "      <td>8.00</td>\n",
       "      <td>0.00</td>\n",
       "      <td>0.54</td>\n",
       "      <td>55.00</td>\n",
       "      <td>68.00</td>\n",
       "      <td>55.00</td>\n",
       "      <td>71.00</td>\n",
       "      <td>72.00</td>\n",
       "      <td>70.00</td>\n",
       "      <td>0.08</td>\n",
       "      <td>0.05</td>\n",
       "      <td>0.08</td>\n",
       "    </tr>\n",
       "    <tr>\n",
       "      <th>999</th>\n",
       "      <td>6.00</td>\n",
       "      <td>2.00</td>\n",
       "      <td>0.00</td>\n",
       "      <td>28.00</td>\n",
       "      <td>32.00</td>\n",
       "      <td>30.00</td>\n",
       "      <td>38.00</td>\n",
       "      <td>34.00</td>\n",
       "      <td>34.00</td>\n",
       "      <td>0.93</td>\n",
       "      <td>1.00</td>\n",
       "      <td>0.93</td>\n",
       "    </tr>\n",
       "  </tbody>\n",
       "</table>\n",
       "<p>1000 rows × 12 columns</p>\n",
       "</div>"
      ],
      "text/plain": [
       "     diff_len  diff_wlen  ratio_common  fuzz_qratio  fuzz_WRatio  \\\n",
       "0        9.00       2.00          0.71        93.00        95.00   \n",
       "1       37.00       5.00          0.50        66.00        86.00   \n",
       "2       14.00       4.00          0.29        54.00        63.00   \n",
       "3       15.00       2.00          0.00        35.00        35.00   \n",
       "4       37.00       6.00          0.15        46.00        86.00   \n",
       "..        ...        ...           ...          ...          ...   \n",
       "995     35.00       6.00          0.13        46.00        46.00   \n",
       "996     28.00       5.00          0.36        45.00        59.00   \n",
       "997     22.00       1.00          0.00        36.00        40.00   \n",
       "998      8.00       0.00          0.54        55.00        68.00   \n",
       "999      6.00       2.00          0.00        28.00        32.00   \n",
       "\n",
       "     fuzz_partial_ratio  fuzz_partial_token_sort_ratio  fuzz_token_set_ratio  \\\n",
       "0                 98.00                          89.00                100.00   \n",
       "1                 73.00                          75.00                 86.00   \n",
       "2                 53.00                          71.00                 66.00   \n",
       "3                 30.00                          38.00                 36.00   \n",
       "4                 54.00                          63.00                 67.00   \n",
       "..                  ...                            ...                   ...   \n",
       "995               44.00                          47.00                 46.00   \n",
       "996               47.00                          64.00                 62.00   \n",
       "997               40.00                          44.00                 42.00   \n",
       "998               55.00                          71.00                 72.00   \n",
       "999               30.00                          38.00                 34.00   \n",
       "\n",
       "     fuzz_token_sort_ratio  cityblock_distance  canberra_distance  \\\n",
       "0                    93.00                0.01               0.00   \n",
       "1                    63.00                0.01               0.00   \n",
       "2                    66.00                0.01               0.01   \n",
       "3                    36.00                0.01               0.01   \n",
       "4                    47.00                0.06               0.03   \n",
       "..                     ...                 ...                ...   \n",
       "995                  43.00                0.01               0.01   \n",
       "996                  59.00                0.01               0.00   \n",
       "997                  42.00                0.93               1.00   \n",
       "998                  70.00                0.08               0.05   \n",
       "999                  34.00                0.93               1.00   \n",
       "\n",
       "     minkowski_distance  \n",
       "0                  0.01  \n",
       "1                  0.01  \n",
       "2                  0.01  \n",
       "3                  0.01  \n",
       "4                  0.06  \n",
       "..                  ...  \n",
       "995                0.01  \n",
       "996                0.01  \n",
       "997                0.93  \n",
       "998                0.08  \n",
       "999                0.93  \n",
       "\n",
       "[1000 rows x 12 columns]"
      ]
     },
     "execution_count": 210,
     "metadata": {},
     "output_type": "execute_result"
    }
   ],
   "source": [
    "X= pd.concat([fs_1,fs_2,fs4], axis=1)\n",
    "X=X.astype('float64')\n",
    "Y=data_q[\"is_duplicate\"]\n",
    "X"
   ]
  },
  {
   "cell_type": "code",
   "execution_count": 211,
   "id": "f64bd8f7-4df2-4c05-a8fa-0add85183036",
   "metadata": {},
   "outputs": [],
   "source": [
    "#X=X.astype('float64')\n",
    "scaler = StandardScaler()\n",
    "X = scaler.fit_transform(X)"
   ]
  },
  {
   "cell_type": "code",
   "execution_count": 212,
   "id": "781428ab-861e-4b53-a975-b011bf400843",
   "metadata": {},
   "outputs": [],
   "source": [
    "from sklearn.model_selection import train_test_split\n",
    "X_train,X_test,Y_train,Y_test=train_test_split(X,Y,test_size=0.3,random_state=3)"
   ]
  },
  {
   "cell_type": "code",
   "execution_count": 213,
   "id": "5cd77cb5-dfa4-415d-87e1-a91a2bedb1f4",
   "metadata": {},
   "outputs": [],
   "source": [
    "from sklearn.model_selection import GridSearchCV\n",
    "# Logistic Regression classification algorithm\n",
    "from sklearn.linear_model import LogisticRegression"
   ]
  },
  {
   "cell_type": "code",
   "execution_count": 214,
   "id": "c8a3e6af-bcd4-4243-b2d0-bc0c129401a1",
   "metadata": {},
   "outputs": [],
   "source": [
    "parameters ={'C':[0.01,0.1,1],\n",
    "             'penalty':['l2'],\n",
    "             'solver':['lbfgs']}"
   ]
  },
  {
   "cell_type": "code",
   "execution_count": 215,
   "id": "c58d9c44-93bc-4d3f-9226-4d1d21417d0e",
   "metadata": {},
   "outputs": [
    {
     "data": {
      "text/plain": [
       "GridSearchCV(cv=10, error_score='raise-deprecating',\n",
       "       estimator=LogisticRegression(C=1.0, class_weight=None, dual=False, fit_intercept=True,\n",
       "          intercept_scaling=1, max_iter=100, multi_class='warn',\n",
       "          n_jobs=None, penalty='l2', random_state=None, solver='warn',\n",
       "          tol=0.0001, verbose=0, warm_start=False),\n",
       "       fit_params=None, iid='warn', n_jobs=None,\n",
       "       param_grid={'C': [0.01, 0.1, 1], 'penalty': ['l2'], 'solver': ['lbfgs']},\n",
       "       pre_dispatch='2*n_jobs', refit=True, return_train_score='warn',\n",
       "       scoring=None, verbose=0)"
      ]
     },
     "execution_count": 215,
     "metadata": {},
     "output_type": "execute_result"
    }
   ],
   "source": [
    "lr=LogisticRegression()\n",
    "logreg_cv=GridSearchCV(lr,parameters,cv=10)\n",
    "logreg_cv.fit(X_train,Y_train)"
   ]
  },
  {
   "cell_type": "code",
   "execution_count": 216,
   "id": "b6b2babd-97ff-439f-a87e-28117ab96072",
   "metadata": {},
   "outputs": [
    {
     "name": "stdout",
     "output_type": "stream",
     "text": [
      "tuned hpyerparameters :(best parameters)  {'C': 1, 'penalty': 'l2', 'solver': 'lbfgs'}\n",
      "accuracy : 0.6542857142857142\n",
      "accuracy : 0.67\n"
     ]
    }
   ],
   "source": [
    "print(\"tuned hpyerparameters :(best parameters) \",logreg_cv.best_params_)\n",
    "print(\"accuracy :\",logreg_cv.best_score_)\n",
    "BestLR=logreg_cv.best_estimator_\n",
    "print(\"accuracy :\",BestLR.score(X_test,Y_test))"
   ]
  },
  {
   "cell_type": "code",
   "execution_count": 217,
   "id": "d7abc30c-82c7-48d6-9623-d1c1f5eee25e",
   "metadata": {},
   "outputs": [],
   "source": [
    "# K Nearest Neighbors classification algorithm\n",
    "from sklearn.neighbors import KNeighborsClassifier\n",
    "from sklearn.model_selection import GridSearchCV\n",
    "# Logistic Regression classification algorithm\n",
    "from sklearn.linear_model import LogisticRegression\n",
    "# Support Vector Machine classification algorithm\n",
    "from sklearn.svm import SVC"
   ]
  },
  {
   "cell_type": "code",
   "execution_count": 218,
   "id": "fb1f5153-004e-4d40-a01b-6343d6709237",
   "metadata": {},
   "outputs": [
    {
     "name": "stdout",
     "output_type": "stream",
     "text": [
      "tuned hpyerparameters :(best parameters)  {'algorithm': 'auto', 'n_neighbors': 9, 'p': 1}\n",
      "accuracy : 0.6585714285714286\n"
     ]
    }
   ],
   "source": [
    "parameters = {'n_neighbors': [1, 2, 3, 4, 5, 6, 7, 8, 9, 10],\n",
    "              'algorithm': ['auto', 'ball_tree', 'kd_tree', 'brute'],\n",
    "              'p': [1,2]}\n",
    "KNN = KNeighborsClassifier()\n",
    "knn_cv=GridSearchCV(KNN,parameters,cv=10)\n",
    "knn_cv.fit(X_train,Y_train)\n",
    "print(\"tuned hpyerparameters :(best parameters) \",knn_cv.best_params_)\n",
    "print(\"accuracy :\",knn_cv.best_score_)"
   ]
  },
  {
   "cell_type": "code",
   "execution_count": 219,
   "id": "cec46c62-0cfa-40be-92ea-6ef275aecef7",
   "metadata": {},
   "outputs": [
    {
     "name": "stdout",
     "output_type": "stream",
     "text": [
      "accuracy : 0.6866666666666666\n"
     ]
    }
   ],
   "source": [
    "BestLR=knn_cv.best_estimator_\n",
    "print(\"accuracy :\",BestLR.score(X_test,Y_test))"
   ]
  },
  {
   "cell_type": "code",
   "execution_count": 90,
   "id": "072b1f1f-95ce-41a7-908e-0d692f52042b",
   "metadata": {},
   "outputs": [],
   "source": [
    "import numpy as np\n",
    "import pandas as pd\n",
    "from sklearn import tree\n"
   ]
  },
  {
   "cell_type": "code",
   "execution_count": 91,
   "id": "c759548f-8192-4160-a1e9-555f1bf5cc8c",
   "metadata": {},
   "outputs": [],
   "source": [
    "from sklearn.tree import DecisionTreeClassifier"
   ]
  },
  {
   "cell_type": "code",
   "execution_count": 92,
   "id": "49c5bbef-7bd3-48a4-b10b-a53d63ed821a",
   "metadata": {},
   "outputs": [],
   "source": [
    "parameters = {'criterion': ['gini', 'entropy'],\n",
    "     'splitter': ['best', 'random'],\n",
    "     'max_depth': [2*n for n in range(1,10)],\n",
    "     'max_features': ['auto', 'sqrt'],\n",
    "     'min_samples_leaf': [1, 2, 4],\n",
    "     'min_samples_split': [2, 5, 10]}\n",
    "tree = DecisionTreeClassifier()"
   ]
  },
  {
   "cell_type": "code",
   "execution_count": 93,
   "id": "9c5313ab-772a-4fc9-9812-89d8d8c0b744",
   "metadata": {},
   "outputs": [
    {
     "data": {
      "text/plain": [
       "GridSearchCV(cv=10, estimator=DecisionTreeClassifier(),\n",
       "             param_grid={'criterion': ['gini', 'entropy'],\n",
       "                         'max_depth': [2, 4, 6, 8, 10, 12, 14, 16, 18],\n",
       "                         'max_features': ['auto', 'sqrt'],\n",
       "                         'min_samples_leaf': [1, 2, 4],\n",
       "                         'min_samples_split': [2, 5, 10],\n",
       "                         'splitter': ['best', 'random']})"
      ]
     },
     "execution_count": 93,
     "metadata": {},
     "output_type": "execute_result"
    }
   ],
   "source": [
    "tree_cv=GridSearchCV(tree,parameters,cv=10)\n",
    "tree_cv.fit(X_train,Y_train)"
   ]
  },
  {
   "cell_type": "code",
   "execution_count": 94,
   "id": "e8723d84-1c6b-4a5c-b89c-32897a82c101",
   "metadata": {},
   "outputs": [
    {
     "name": "stdout",
     "output_type": "stream",
     "text": [
      "tuned hpyerparameters :(best parameters)  {'criterion': 'gini', 'max_depth': 8, 'max_features': 'sqrt', 'min_samples_leaf': 4, 'min_samples_split': 2, 'splitter': 'random'}\n",
      "accuracy : 0.6842857142857144\n",
      "accuracy : 0.67\n"
     ]
    }
   ],
   "source": [
    "print(\"tuned hpyerparameters :(best parameters) \",tree_cv.best_params_)\n",
    "print(\"accuracy :\",tree_cv.best_score_)\n",
    "BestLR=tree_cv.best_estimator_\n",
    "print(\"accuracy :\",BestLR.score(X_test,Y_test))"
   ]
  },
  {
   "cell_type": "code",
   "execution_count": 95,
   "id": "f70af41b-576d-49d1-994b-5668ada66bce",
   "metadata": {},
   "outputs": [],
   "source": [
    "from sklearn import svm\n",
    "svm_cv = svm.SVC(kernel='linear')\n",
    "#'poly','rbf', 'sigmoid'"
   ]
  },
  {
   "cell_type": "code",
   "execution_count": 96,
   "id": "54899f5b-58b0-448a-b41a-9f799a329cc1",
   "metadata": {},
   "outputs": [
    {
     "name": "stdout",
     "output_type": "stream",
     "text": [
      "Accuracy: 0.69\n"
     ]
    }
   ],
   "source": [
    "svm_cv.fit(X_train,Y_train)\n",
    "from sklearn import metrics\n",
    "yhat = svm_cv.predict(X_test)\n",
    "print(\"Accuracy:\",metrics.accuracy_score(Y_test, yhat))"
   ]
  },
  {
   "cell_type": "code",
   "execution_count": 97,
   "id": "2e2955ba-a1e6-4d56-895a-fbdfb01489a8",
   "metadata": {},
   "outputs": [],
   "source": [
    "# importing random forest classifier from assemble module\n",
    "from sklearn.ensemble import RandomForestClassifier"
   ]
  },
  {
   "cell_type": "code",
   "execution_count": 98,
   "id": "b51dbed7-302e-494a-ad9f-9e92def37f68",
   "metadata": {},
   "outputs": [
    {
     "data": {
      "text/plain": [
       "RandomForestClassifier()"
      ]
     },
     "execution_count": 98,
     "metadata": {},
     "output_type": "execute_result"
    }
   ],
   "source": [
    "# creating a RF classifier\n",
    "clf = RandomForestClassifier(n_estimators = 100) \n",
    " \n",
    "# Training the model on the training dataset\n",
    "# fit function is used to train the model using the training sets as parameters\n",
    "clf.fit(X_train, Y_train)"
   ]
  },
  {
   "cell_type": "code",
   "execution_count": 99,
   "id": "bcd18bfc-72ee-423c-8ba6-f42839bc0e65",
   "metadata": {},
   "outputs": [
    {
     "name": "stdout",
     "output_type": "stream",
     "text": [
      "\n",
      "ACCURACY OF THE MODEL:  0.6733333333333333\n"
     ]
    }
   ],
   "source": [
    "# performing predictions on the test dataset\n",
    "y_hat = clf.predict(X_test)\n",
    " \n",
    "# metrics are used to find accuracy or error\n",
    "from sklearn import metrics \n",
    "print()\n",
    " \n",
    "# using metrics module for accuracy calculation\n",
    "print(\"ACCURACY OF THE MODEL: \", metrics.accuracy_score(Y_test, y_hat))"
   ]
  },
  {
   "cell_type": "code",
   "execution_count": null,
   "id": "1889aa98-07a7-4198-80a4-50e0a3472107",
   "metadata": {},
   "outputs": [],
   "source": []
  },
  {
   "cell_type": "code",
   "execution_count": null,
   "id": "ca800c7e-aaeb-465c-bec2-b3ba0f4293fd",
   "metadata": {},
   "outputs": [],
   "source": []
  }
 ],
 "metadata": {
  "kernelspec": {
   "display_name": "Python",
   "language": "python",
   "name": "conda-env-python-py"
  },
  "language_info": {
   "codemirror_mode": {
    "name": "ipython",
    "version": 3
   },
   "file_extension": ".py",
   "mimetype": "text/x-python",
   "name": "python",
   "nbconvert_exporter": "python",
   "pygments_lexer": "ipython3",
   "version": "3.7.12"
  }
 },
 "nbformat": 4,
 "nbformat_minor": 5
}
